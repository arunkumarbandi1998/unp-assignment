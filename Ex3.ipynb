{
  "nbformat": 4,
  "nbformat_minor": 0,
  "metadata": {
    "colab": {
      "name": "Ex3.ipynb",
      "provenance": [],
      "include_colab_link": true
    },
    "kernelspec": {
      "display_name": "Python 3",
      "language": "python",
      "name": "python3"
    },
    "language_info": {
      "codemirror_mode": {
        "name": "ipython",
        "version": 3
      },
      "file_extension": ".py",
      "mimetype": "text/x-python",
      "name": "python",
      "nbconvert_exporter": "python",
      "pygments_lexer": "ipython3",
      "version": "3.7.3"
    },
    "learntools_metadata": {
      "lesson_index": 2,
      "type": "exercise"
    }
  },
  "cells": [
    {
      "cell_type": "markdown",
      "metadata": {
        "id": "view-in-github",
        "colab_type": "text"
      },
      "source": [
        "<a href=\"https://colab.research.google.com/github/arunkumarbandi1998/unp-assignment/blob/main/Ex3.ipynb\" target=\"_parent\"><img src=\"https://colab.research.google.com/assets/colab-badge.svg\" alt=\"Open In Colab\"/></a>"
      ]
    },
    {
      "cell_type": "markdown",
      "metadata": {
        "id": "t9OXT3ETXxOw"
      },
      "source": [
        "In this exercise, you'll put to work what you have learned about booleans and conditionals.\n",
        "\n",
        "To get started, **run the setup code below** before writing your own code (and if you leave this notebook and come back later, don't forget to run the setup code again)."
      ]
    },
    {
      "cell_type": "code",
      "metadata": {
        "colab": {
          "base_uri": "https://localhost:8080/"
        },
        "id": "AOH4CZMOXxO6",
        "outputId": "2bec1148-5c94-4b92-a1be-d09bff9fc0d1"
      },
      "source": [
        "!pip install git+https://github.com/ML-Challenge/learntools.git\n",
        "from learntools.core import binder; binder.bind(globals())\n",
        "from learntools.python.ex3 import *\n",
        "print(\"setup complete!\")"
      ],
      "execution_count": 2,
      "outputs": [
        {
          "output_type": "stream",
          "name": "stdout",
          "text": [
            "Collecting git+https://github.com/ML-Challenge/learntools.git\n",
            "  Cloning https://github.com/ML-Challenge/learntools.git to /tmp/pip-req-build-5iy50te0\n",
            "  Running command git clone -q https://github.com/ML-Challenge/learntools.git /tmp/pip-req-build-5iy50te0\n",
            "Building wheels for collected packages: learntools\n",
            "  Building wheel for learntools (setup.py) ... \u001b[?25l\u001b[?25hdone\n",
            "  Created wheel for learntools: filename=learntools-0.3.4-py3-none-any.whl size=207310 sha256=f8eb2831ac85a5d00b863a7d5b1b2f77ade5c3f4cb43ee9fbd6e9bcc3fae55d0\n",
            "  Stored in directory: /tmp/pip-ephem-wheel-cache-gf42p43k/wheels/5e/42/53/aa3198486cfc460e19152f9f799b8d0f549cb88f492acb6033\n",
            "Successfully built learntools\n",
            "Installing collected packages: learntools\n",
            "Successfully installed learntools-0.3.4\n",
            "setup complete!\n"
          ]
        }
      ]
    },
    {
      "cell_type": "markdown",
      "metadata": {
        "id": "yzQuuOYEXxO-"
      },
      "source": [
        "# 1.\n",
        "\n",
        "Many programming languages have [`sign`](https://en.wikipedia.org/wiki/Sign_function) available as a built-in function. Python doesn't, but we can define our own!\n",
        "\n",
        "In the cell below, define a function called `sign` which takes a numerical argument and returns -1 if it's negative, 1 if it's positive, and 0 if it's 0."
      ]
    },
    {
      "cell_type": "code",
      "metadata": {
        "colab": {
          "base_uri": "https://localhost:8080/",
          "height": 47
        },
        "id": "bdr7HM2JXxO_",
        "outputId": "0b8be7e2-a506-4ce0-b75d-3783deaa2059"
      },
      "source": [
        "# Your code goes here. Define a function called 'sign'\n",
        "\n",
        "# Check your answer\n",
        "q1.check()"
      ],
      "execution_count": 11,
      "outputs": [
        {
          "output_type": "display_data",
          "data": {
            "application/javascript": [
              "parent.postMessage({\"jupyterEvent\": \"custom.exercise_interaction\", \"data\": {\"outcomeType\": 4, \"interactionType\": 1, \"questionType\": 2, \"questionId\": \"1_SignFunctionProblem\", \"learnToolsVersion\": \"0.3.4\", \"valueTowardsCompletion\": 0.0, \"failureMessage\": \"\", \"exceptionClass\": \"\", \"trace\": \"\"}}, \"*\")"
            ],
            "text/plain": [
              "<IPython.core.display.Javascript object>"
            ]
          },
          "metadata": {}
        },
        {
          "output_type": "display_data",
          "data": {
            "text/markdown": "<span style=\"color:#ccaa33\">Check:</span> When you've updated the starter code, `check()` will tell you whether your code is correct. Remember, you must create the following variable: `sign`",
            "text/plain": [
              "Check: When you've updated the starter code, `check()` will tell you whether your code is correct. Remember, you must create the following variable: `sign`"
            ]
          },
          "metadata": {}
        }
      ]
    },
    {
      "cell_type": "code",
      "metadata": {
        "id": "Z9DUcigYXxPB",
        "colab": {
          "base_uri": "https://localhost:8080/",
          "height": 168
        },
        "outputId": "b2208896-c759-4d84-a44d-7c4b727f9094"
      },
      "source": [
        "q1.solution()"
      ],
      "execution_count": 12,
      "outputs": [
        {
          "output_type": "display_data",
          "data": {
            "application/javascript": [
              "parent.postMessage({\"jupyterEvent\": \"custom.exercise_interaction\", \"data\": {\"interactionType\": 3, \"questionType\": 2, \"questionId\": \"1_SignFunctionProblem\", \"learnToolsVersion\": \"0.3.4\", \"valueTowardsCompletion\": 0.0, \"failureMessage\": \"\", \"exceptionClass\": \"\", \"trace\": \"\", \"outcomeType\": 4}}, \"*\")"
            ],
            "text/plain": [
              "<IPython.core.display.Javascript object>"
            ]
          },
          "metadata": {}
        },
        {
          "output_type": "display_data",
          "data": {
            "text/markdown": "<span style=\"color:#33cc99\">Solution:</span> \n```python\ndef sign(x):\n    if x > 0:\n        return 1\n    elif x < 0:\n        return -1\n    else:\n        return 0\n```",
            "text/plain": [
              "Solution: \n",
              "```python\n",
              "def sign(x):\n",
              "    if x > 0:\n",
              "        return 1\n",
              "    elif x < 0:\n",
              "        return -1\n",
              "    else:\n",
              "        return 0\n",
              "```"
            ]
          },
          "metadata": {}
        }
      ]
    },
    {
      "cell_type": "markdown",
      "metadata": {
        "id": "r65c47SsXxPC"
      },
      "source": [
        "# 2.\n",
        "\n",
        "We've decided to add \"logging\" to our `to_smash` function from the previous exercise."
      ]
    },
    {
      "cell_type": "code",
      "metadata": {
        "id": "NlVt6s42XxPD",
        "colab": {
          "base_uri": "https://localhost:8080/"
        },
        "outputId": "043e6b54-0bb3-47f0-ef1d-14b6175fa1c9"
      },
      "source": [
        "def to_smash(total_candies):\n",
        "    \"\"\"Return the number of leftover candies that must be smashed after distributing\n",
        "    the given number of candies evenly between 3 friends.\n",
        "    \n",
        "    >>> to_smash(91)\n",
        "    1\n",
        "    \"\"\"\n",
        "    print(\"Splitting\", total_candies, \"candies\")\n",
        "    return total_candies % 3\n",
        "\n",
        "to_smash(91)"
      ],
      "execution_count": 3,
      "outputs": [
        {
          "output_type": "stream",
          "name": "stdout",
          "text": [
            "Splitting 91 candies\n"
          ]
        },
        {
          "output_type": "execute_result",
          "data": {
            "text/plain": [
              "1"
            ]
          },
          "metadata": {},
          "execution_count": 3
        }
      ]
    },
    {
      "cell_type": "markdown",
      "metadata": {
        "id": "dS8IhUQSXxPE"
      },
      "source": [
        "What happens if we call it with `total_candies = 1`?"
      ]
    },
    {
      "cell_type": "code",
      "metadata": {
        "id": "uGj3xcLwXxPF",
        "colab": {
          "base_uri": "https://localhost:8080/"
        },
        "outputId": "bfd187e6-e9af-4efc-b2e4-f637fd5b164a"
      },
      "source": [
        "to_smash(1)"
      ],
      "execution_count": 4,
      "outputs": [
        {
          "output_type": "stream",
          "name": "stdout",
          "text": [
            "Splitting 1 candies\n"
          ]
        },
        {
          "output_type": "execute_result",
          "data": {
            "text/plain": [
              "1"
            ]
          },
          "metadata": {},
          "execution_count": 4
        }
      ]
    },
    {
      "cell_type": "markdown",
      "metadata": {
        "id": "OJpol79AXxPH"
      },
      "source": [
        "That isn't great grammar!\n",
        "\n",
        "Modify the definition in the cell below to correct the grammar of our print statement. (If there's only one candy, we should use the singular \"candy\" instead of the plural \"candies\")"
      ]
    },
    {
      "cell_type": "code",
      "metadata": {
        "id": "1cnryHiwXxPI",
        "colab": {
          "base_uri": "https://localhost:8080/"
        },
        "outputId": "d2df5fe1-d4fd-46fc-ed6e-77bcf5e123ed"
      },
      "source": [
        "def to_smash(total_candies):\n",
        "    \"\"\"Return the number of leftover candies that must be smashed after distributing\n",
        "    the given number of candies evenly between 3 friends.\n",
        "    \n",
        "    >>> to_smash(91)\n",
        "    1\n",
        "    \"\"\"\n",
        "    print(\"Splitting\", total_candies, \"candies\")\n",
        "    return total_candies % 3\n",
        "\n",
        "to_smash(91)\n",
        "to_smash(1)"
      ],
      "execution_count": 5,
      "outputs": [
        {
          "output_type": "stream",
          "name": "stdout",
          "text": [
            "Splitting 91 candies\n",
            "Splitting 1 candies\n"
          ]
        },
        {
          "output_type": "execute_result",
          "data": {
            "text/plain": [
              "1"
            ]
          },
          "metadata": {},
          "execution_count": 5
        }
      ]
    },
    {
      "cell_type": "markdown",
      "metadata": {
        "id": "D8w2NojMXxPJ"
      },
      "source": [
        "To get credit for completing this problem, and to see the official answer, run the code cell below."
      ]
    },
    {
      "cell_type": "code",
      "metadata": {
        "id": "Uc-QvkJYXxPK",
        "colab": {
          "base_uri": "https://localhost:8080/",
          "height": 163
        },
        "outputId": "c51bfa58-faf2-4eaa-813d-03fd48c56264"
      },
      "source": [
        "# Check your answer (Run this code cell to receive credit!)\n",
        "q2.solution()"
      ],
      "execution_count": 6,
      "outputs": [
        {
          "output_type": "display_data",
          "data": {
            "application/javascript": [
              "parent.postMessage({\"jupyterEvent\": \"custom.exercise_interaction\", \"data\": {\"interactionType\": 3, \"questionType\": 4, \"questionId\": \"2_PluralizationProblem\", \"learnToolsVersion\": \"0.3.4\", \"valueTowardsCompletion\": 0.0, \"failureMessage\": \"\", \"exceptionClass\": \"\", \"trace\": \"\", \"outcomeType\": 4}}, \"*\")"
            ],
            "text/plain": [
              "<IPython.core.display.Javascript object>"
            ]
          },
          "metadata": {}
        },
        {
          "output_type": "display_data",
          "data": {
            "text/markdown": "<span style=\"color:#33cc99\">Solution:</span> A straightforward (and totally fine) solution is to replace the original `print` call with:\n\n```python\nif total_candies == 1:\n    print(\"Splitting 1 candy\")\nelse:\n    print(\"Splitting\", total_candies, \"candies\")\n```\n\nHere's a slightly more succinct solution using a conditional expression:\n\n```python\nprint(\"Splitting\", total_candies, \"candy\" if total_candies == 1 else \"candies\")\n```",
            "text/plain": [
              "Solution: A straightforward (and totally fine) solution is to replace the original `print` call with:\n",
              "\n",
              "```python\n",
              "if total_candies == 1:\n",
              "    print(\"Splitting 1 candy\")\n",
              "else:\n",
              "    print(\"Splitting\", total_candies, \"candies\")\n",
              "```\n",
              "\n",
              "Here's a slightly more succinct solution using a conditional expression:\n",
              "\n",
              "```python\n",
              "print(\"Splitting\", total_candies, \"candy\" if total_candies == 1 else \"candies\")\n",
              "```"
            ]
          },
          "metadata": {}
        }
      ]
    },
    {
      "cell_type": "markdown",
      "metadata": {
        "id": "9ay81tR0XxPN"
      },
      "source": [
        "# 3. <span title=\"A bit spicy\" style=\"color: darkgreen \">🌶️</span>\n",
        "\n",
        "In the tutorial, we talked about deciding whether we're prepared for the weather. I said that I'm safe from today's weather if...\n",
        "- I have an umbrella...\n",
        "- or if the rain isn't too heavy and I have a hood...\n",
        "- otherwise, I'm still fine unless it's raining *and* it's a workday\n",
        "\n",
        "The function below uses our first attempt at turning this logic into a Python expression. I claimed that there was a bug in that code. Can you find it?\n",
        "\n",
        "To prove that `prepared_for_weather` is buggy, come up with a set of inputs where either:\n",
        "- the function returns `False` (but should have returned `True`), or\n",
        "- the function returned `True` (but should have returned `False`).\n",
        "\n",
        "To get credit for completing this question, your code should return a <font color='#33cc33'>Correct</font> result."
      ]
    },
    {
      "cell_type": "code",
      "metadata": {
        "id": "OMJzc1aJXxPj",
        "colab": {
          "base_uri": "https://localhost:8080/",
          "height": 81
        },
        "outputId": "8ace1db7-3ef1-48b7-96da-cb9339763f06"
      },
      "source": [
        "def prepared_for_weather(have_umbrella, rain_level, have_hood, is_workday):\n",
        "    # Don't change this code. Our goal is just to find the bug, not fix it!\n",
        "    return have_umbrella or rain_level < 5 and have_hood or not rain_level > 0 and is_workday\n",
        "\n",
        "# Change the values of these inputs so they represent a case where prepared_for_weather\n",
        "# returns the wrong answer.\n",
        "have_umbrella = True\n",
        "rain_level = 0.0\n",
        "have_hood = True\n",
        "is_workday = True\n",
        "\n",
        "# Check what the function returns given the current values of the variables above\n",
        "actual = prepared_for_weather(have_umbrella, rain_level, have_hood, is_workday)\n",
        "print(actual)\n",
        "\n",
        "# Check your answer\n",
        "q3.check()"
      ],
      "execution_count": 7,
      "outputs": [
        {
          "output_type": "stream",
          "name": "stdout",
          "text": [
            "True\n"
          ]
        },
        {
          "output_type": "display_data",
          "data": {
            "application/javascript": [
              "parent.postMessage({\"jupyterEvent\": \"custom.exercise_interaction\", \"data\": {\"outcomeType\": 2, \"failureMessage\": \"Given `have_umbrella=True`, `rain_level=0.0`, `have_hood=True`, `is_workday=True`, `prepared_for_weather` returned `True`. But I think that's correct. (We want inputs that lead to an incorrect result from `prepared_for_weather`.)\", \"interactionType\": 1, \"questionType\": 1, \"questionId\": \"3_WeatherDebug\", \"learnToolsVersion\": \"0.3.4\", \"valueTowardsCompletion\": 0.0, \"exceptionClass\": \"\", \"trace\": \"\"}}, \"*\")"
            ],
            "text/plain": [
              "<IPython.core.display.Javascript object>"
            ]
          },
          "metadata": {}
        },
        {
          "output_type": "display_data",
          "data": {
            "text/markdown": "<span style=\"color:#cc3333\">Incorrect:</span> Given `have_umbrella=True`, `rain_level=0.0`, `have_hood=True`, `is_workday=True`, `prepared_for_weather` returned `True`. But I think that's correct. (We want inputs that lead to an incorrect result from `prepared_for_weather`.)",
            "text/plain": [
              "Incorrect: Given `have_umbrella=True`, `rain_level=0.0`, `have_hood=True`, `is_workday=True`, `prepared_for_weather` returned `True`. But I think that's correct. (We want inputs that lead to an incorrect result from `prepared_for_weather`.)"
            ]
          },
          "metadata": {}
        }
      ]
    },
    {
      "cell_type": "code",
      "metadata": {
        "id": "jiIL3NWrXxP0",
        "colab": {
          "base_uri": "https://localhost:8080/",
          "height": 250
        },
        "outputId": "dab776b0-b35b-4fd1-8daf-2109aa4cdb59"
      },
      "source": [
        "#q3.hint()\n",
        "q3.solution()"
      ],
      "execution_count": 9,
      "outputs": [
        {
          "output_type": "display_data",
          "data": {
            "application/javascript": [
              "parent.postMessage({\"jupyterEvent\": \"custom.exercise_interaction\", \"data\": {\"interactionType\": 3, \"questionType\": 1, \"questionId\": \"3_WeatherDebug\", \"learnToolsVersion\": \"0.3.4\", \"valueTowardsCompletion\": 0.0, \"failureMessage\": \"\", \"exceptionClass\": \"\", \"trace\": \"\", \"outcomeType\": 4}}, \"*\")"
            ],
            "text/plain": [
              "<IPython.core.display.Javascript object>"
            ]
          },
          "metadata": {}
        },
        {
          "output_type": "display_data",
          "data": {
            "text/markdown": "<span style=\"color:#33cc99\">Solution:</span> One example of a failing test case is:\n\n```python\nhave_umbrella = False\nrain_level = 0.0\nhave_hood = False\nis_workday = False\n```\n\nClearly we're prepared for the weather in this case. It's not raining. Not only that, it's not a workday, so we don't even need to leave the house! But our function will return False on these inputs.\n\nThe key problem is that Python implictly parenthesizes the last part as:\n\n```python\n(not (rain_level > 0)) and is_workday\n```\n\nWhereas what we were trying to express would look more like:\n\n```python\nnot (rain_level > 0 and is_workday)\n```\n",
            "text/plain": [
              "Solution: One example of a failing test case is:\n",
              "\n",
              "```python\n",
              "have_umbrella = False\n",
              "rain_level = 0.0\n",
              "have_hood = False\n",
              "is_workday = False\n",
              "```\n",
              "\n",
              "Clearly we're prepared for the weather in this case. It's not raining. Not only that, it's not a workday, so we don't even need to leave the house! But our function will return False on these inputs.\n",
              "\n",
              "The key problem is that Python implictly parenthesizes the last part as:\n",
              "\n",
              "```python\n",
              "(not (rain_level > 0)) and is_workday\n",
              "```\n",
              "\n",
              "Whereas what we were trying to express would look more like:\n",
              "\n",
              "```python\n",
              "not (rain_level > 0 and is_workday)\n",
              "```"
            ]
          },
          "metadata": {}
        }
      ]
    },
    {
      "cell_type": "markdown",
      "metadata": {
        "id": "Kz3TLT5sXxP2"
      },
      "source": [
        "# 4.\n",
        "\n",
        "The function `is_negative` below is implemented correctly - it returns True if the given number is negative and False otherwise.\n",
        "\n",
        "However, it's more verbose than it needs to be. We can actually reduce the number of lines of code in this function by *75%* while keeping the same behaviour. \n",
        "\n",
        "See if you can come up with an equivalent body that uses just **one line** of code, and put it in the function `concise_is_negative`. (HINT: you don't even need Python's ternary syntax)"
      ]
    },
    {
      "cell_type": "code",
      "metadata": {
        "id": "5SF7HOaCXxP5",
        "colab": {
          "base_uri": "https://localhost:8080/",
          "height": 47
        },
        "outputId": "24554a52-38a6-4fd4-a5f0-bdd67a4bf3bf"
      },
      "source": [
        "def is_negative(number):\n",
        "    if number < 0:\n",
        "        return True\n",
        "    else:\n",
        "        return False\n",
        "\n",
        "def concise_is_negative(number):\n",
        "    pass # Your code goes here (try to keep it to one line!)\n",
        "\n",
        "# Check your answer\n",
        "q4.check()"
      ],
      "execution_count": 10,
      "outputs": [
        {
          "output_type": "display_data",
          "data": {
            "application/javascript": [
              "parent.postMessage({\"jupyterEvent\": \"custom.exercise_interaction\", \"data\": {\"outcomeType\": 4, \"interactionType\": 1, \"questionType\": 2, \"questionId\": \"4_ConciseIsNegative\", \"learnToolsVersion\": \"0.3.4\", \"valueTowardsCompletion\": 0.0, \"failureMessage\": \"\", \"exceptionClass\": \"\", \"trace\": \"\"}}, \"*\")"
            ],
            "text/plain": [
              "<IPython.core.display.Javascript object>"
            ]
          },
          "metadata": {}
        },
        {
          "output_type": "display_data",
          "data": {
            "text/markdown": "<span style=\"color:#ccaa33\">Check:</span> When you've updated the starter code, `check()` will tell you whether your code is correct. ",
            "text/plain": [
              "Check: When you've updated the starter code, `check()` will tell you whether your code is correct. "
            ]
          },
          "metadata": {}
        }
      ]
    },
    {
      "cell_type": "code",
      "metadata": {
        "id": "Idt_LbJHXxP7",
        "colab": {
          "base_uri": "https://localhost:8080/",
          "height": 64
        },
        "outputId": "def0ab79-4348-4212-c93b-cf632b60f649"
      },
      "source": [
        "#q4.hint()\n",
        "q4.solution()"
      ],
      "execution_count": 13,
      "outputs": [
        {
          "output_type": "display_data",
          "data": {
            "application/javascript": [
              "parent.postMessage({\"jupyterEvent\": \"custom.exercise_interaction\", \"data\": {\"interactionType\": 3, \"questionType\": 2, \"questionId\": \"4_ConciseIsNegative\", \"learnToolsVersion\": \"0.3.4\", \"valueTowardsCompletion\": 0.0, \"failureMessage\": \"\", \"exceptionClass\": \"\", \"trace\": \"\", \"outcomeType\": 4}}, \"*\")"
            ],
            "text/plain": [
              "<IPython.core.display.Javascript object>"
            ]
          },
          "metadata": {}
        },
        {
          "output_type": "display_data",
          "data": {
            "text/markdown": "<span style=\"color:#33cc99\">Solution:</span> \n```python\nreturn number < 0\n```",
            "text/plain": [
              "Solution: \n",
              "```python\n",
              "return number < 0\n",
              "```"
            ]
          },
          "metadata": {}
        }
      ]
    },
    {
      "cell_type": "markdown",
      "metadata": {
        "id": "VM9fpQgdXxP-"
      },
      "source": [
        "# 5a.\n",
        "\n",
        "The boolean variables `ketchup`, `mustard` and `onion` represent whether a customer wants a particular topping on their hot dog. We want to implement a number of boolean functions that correspond to some yes-or-no questions about the customer's order. For example:"
      ]
    },
    {
      "cell_type": "code",
      "metadata": {
        "id": "qsPtyLjAXxQA"
      },
      "source": [
        "def onionless(ketchup, mustard, onion):\n",
        "    \"\"\"Return whether the customer doesn't want onions.\n",
        "    \"\"\"\n",
        "    return not onion"
      ],
      "execution_count": 14,
      "outputs": []
    },
    {
      "cell_type": "code",
      "metadata": {
        "id": "bswwcVJFXxQC",
        "colab": {
          "base_uri": "https://localhost:8080/",
          "height": 47
        },
        "outputId": "447a5764-7f7c-40f0-9fbb-7da141fdcbe5"
      },
      "source": [
        "def wants_all_toppings(ketchup, mustard, onion):\n",
        "    \"\"\"Return whether the customer wants \"the works\" (all 3 toppings)\n",
        "    \"\"\"\n",
        "    pass\n",
        "\n",
        "# Check your answer\n",
        "q5.a.check()"
      ],
      "execution_count": 15,
      "outputs": [
        {
          "output_type": "display_data",
          "data": {
            "application/javascript": [
              "parent.postMessage({\"jupyterEvent\": \"custom.exercise_interaction\", \"data\": {\"outcomeType\": 4, \"interactionType\": 1, \"questionType\": 2, \"questionId\": \"5.1_AllToppings\", \"learnToolsVersion\": \"0.3.4\", \"valueTowardsCompletion\": 0.0, \"failureMessage\": \"\", \"exceptionClass\": \"\", \"trace\": \"\"}}, \"*\")"
            ],
            "text/plain": [
              "<IPython.core.display.Javascript object>"
            ]
          },
          "metadata": {}
        },
        {
          "output_type": "display_data",
          "data": {
            "text/markdown": "<span style=\"color:#ccaa33\">Check:</span> When you've updated the starter code, `check()` will tell you whether your code is correct. ",
            "text/plain": [
              "Check: When you've updated the starter code, `check()` will tell you whether your code is correct. "
            ]
          },
          "metadata": {}
        }
      ]
    },
    {
      "cell_type": "code",
      "metadata": {
        "id": "wKRFgRsrXxQE",
        "colab": {
          "base_uri": "https://localhost:8080/",
          "height": 64
        },
        "outputId": "aecc4a57-5678-4a03-ddeb-ed0521adaf65"
      },
      "source": [
        "#q5.a.hint()\n",
        "q5.a.solution()"
      ],
      "execution_count": 16,
      "outputs": [
        {
          "output_type": "display_data",
          "data": {
            "application/javascript": [
              "parent.postMessage({\"jupyterEvent\": \"custom.exercise_interaction\", \"data\": {\"interactionType\": 3, \"questionType\": 2, \"questionId\": \"5.1_AllToppings\", \"learnToolsVersion\": \"0.3.4\", \"valueTowardsCompletion\": 0.0, \"failureMessage\": \"\", \"exceptionClass\": \"\", \"trace\": \"\", \"outcomeType\": 4}}, \"*\")"
            ],
            "text/plain": [
              "<IPython.core.display.Javascript object>"
            ]
          },
          "metadata": {}
        },
        {
          "output_type": "display_data",
          "data": {
            "text/markdown": "<span style=\"color:#33cc99\">Solution:</span> \n```python\nreturn ketchup and mustard and onion\n```",
            "text/plain": [
              "Solution: \n",
              "```python\n",
              "return ketchup and mustard and onion\n",
              "```"
            ]
          },
          "metadata": {}
        }
      ]
    },
    {
      "cell_type": "markdown",
      "metadata": {
        "id": "MqZWUqMgXxQG"
      },
      "source": [
        "# 5b.\n",
        "\n",
        "For the next function, fill in the body to match the English description in the docstring. "
      ]
    },
    {
      "cell_type": "code",
      "metadata": {
        "id": "N62MVPDIXxQH",
        "colab": {
          "base_uri": "https://localhost:8080/",
          "height": 47
        },
        "outputId": "4953858b-1347-4140-fe29-af6cbf5ddded"
      },
      "source": [
        "def wants_plain_hotdog(ketchup, mustard, onion):\n",
        "    \"\"\"Return whether the customer wants a plain hot dog with no toppings.\n",
        "    \"\"\"\n",
        "    pass\n",
        "\n",
        "# Check your answer\n",
        "q5.b.check()"
      ],
      "execution_count": 17,
      "outputs": [
        {
          "output_type": "display_data",
          "data": {
            "application/javascript": [
              "parent.postMessage({\"jupyterEvent\": \"custom.exercise_interaction\", \"data\": {\"outcomeType\": 4, \"interactionType\": 1, \"questionType\": 2, \"questionId\": \"5.2_PlainDog\", \"learnToolsVersion\": \"0.3.4\", \"valueTowardsCompletion\": 0.0, \"failureMessage\": \"\", \"exceptionClass\": \"\", \"trace\": \"\"}}, \"*\")"
            ],
            "text/plain": [
              "<IPython.core.display.Javascript object>"
            ]
          },
          "metadata": {}
        },
        {
          "output_type": "display_data",
          "data": {
            "text/markdown": "<span style=\"color:#ccaa33\">Check:</span> When you've updated the starter code, `check()` will tell you whether your code is correct. ",
            "text/plain": [
              "Check: When you've updated the starter code, `check()` will tell you whether your code is correct. "
            ]
          },
          "metadata": {}
        }
      ]
    },
    {
      "cell_type": "code",
      "metadata": {
        "id": "hRK8a41pXxQJ",
        "colab": {
          "base_uri": "https://localhost:8080/",
          "height": 111
        },
        "outputId": "c67add8e-5d64-472b-9d3f-f75b8a22fce8"
      },
      "source": [
        "#q5.b.hint()\n",
        "q5.b.solution()"
      ],
      "execution_count": 18,
      "outputs": [
        {
          "output_type": "display_data",
          "data": {
            "application/javascript": [
              "parent.postMessage({\"jupyterEvent\": \"custom.exercise_interaction\", \"data\": {\"interactionType\": 3, \"questionType\": 2, \"questionId\": \"5.2_PlainDog\", \"learnToolsVersion\": \"0.3.4\", \"valueTowardsCompletion\": 0.0, \"failureMessage\": \"\", \"exceptionClass\": \"\", \"trace\": \"\", \"outcomeType\": 4}}, \"*\")"
            ],
            "text/plain": [
              "<IPython.core.display.Javascript object>"
            ]
          },
          "metadata": {}
        },
        {
          "output_type": "display_data",
          "data": {
            "text/markdown": "<span style=\"color:#33cc99\">Solution:</span> One solution looks like:\n```python\nreturn not ketchup and not mustard and not onion\n```\n\nWe can also [\"factor out\" the nots](https://en.wikipedia.org/wiki/De_Morgan%27s_laws) to get:\n\n```python\nreturn not (ketchup or mustard or onion)\n```",
            "text/plain": [
              "Solution: One solution looks like:\n",
              "```python\n",
              "return not ketchup and not mustard and not onion\n",
              "```\n",
              "\n",
              "We can also [\"factor out\" the nots](https://en.wikipedia.org/wiki/De_Morgan%27s_laws) to get:\n",
              "\n",
              "```python\n",
              "return not (ketchup or mustard or onion)\n",
              "```"
            ]
          },
          "metadata": {}
        }
      ]
    },
    {
      "cell_type": "markdown",
      "metadata": {
        "id": "wpjxzyGzXxQK"
      },
      "source": [
        "# 5c.\n",
        "\n",
        "You know what to do: for the next function, fill in the body to match the English description in the docstring."
      ]
    },
    {
      "cell_type": "code",
      "metadata": {
        "id": "AUOf0mHDXxQM",
        "colab": {
          "base_uri": "https://localhost:8080/",
          "height": 47
        },
        "outputId": "5ec3d489-2667-41bb-b9e1-7cf8493b38f2"
      },
      "source": [
        "def exactly_one_sauce(ketchup, mustard, onion):\n",
        "    \"\"\"Return whether the customer wants either ketchup or mustard, but not both.\n",
        "    (You may be familiar with this operation under the name \"exclusive or\")\n",
        "    \"\"\"\n",
        "    pass\n",
        "\n",
        "# Check your answer\n",
        "q5.c.check()"
      ],
      "execution_count": 19,
      "outputs": [
        {
          "output_type": "display_data",
          "data": {
            "application/javascript": [
              "parent.postMessage({\"jupyterEvent\": \"custom.exercise_interaction\", \"data\": {\"outcomeType\": 4, \"interactionType\": 1, \"questionType\": 2, \"questionId\": \"5.3_OneSauce\", \"learnToolsVersion\": \"0.3.4\", \"valueTowardsCompletion\": 0.0, \"failureMessage\": \"\", \"exceptionClass\": \"\", \"trace\": \"\"}}, \"*\")"
            ],
            "text/plain": [
              "<IPython.core.display.Javascript object>"
            ]
          },
          "metadata": {}
        },
        {
          "output_type": "display_data",
          "data": {
            "text/markdown": "<span style=\"color:#ccaa33\">Check:</span> When you've updated the starter code, `check()` will tell you whether your code is correct. ",
            "text/plain": [
              "Check: When you've updated the starter code, `check()` will tell you whether your code is correct. "
            ]
          },
          "metadata": {}
        }
      ]
    },
    {
      "cell_type": "code",
      "metadata": {
        "id": "cLACyrIOXxQN",
        "colab": {
          "base_uri": "https://localhost:8080/",
          "height": 64
        },
        "outputId": "42479c4e-316f-4067-9eab-e59f425b5906"
      },
      "source": [
        "#q5.c.hint()\n",
        "q5.c.solution()"
      ],
      "execution_count": 20,
      "outputs": [
        {
          "output_type": "display_data",
          "data": {
            "application/javascript": [
              "parent.postMessage({\"jupyterEvent\": \"custom.exercise_interaction\", \"data\": {\"interactionType\": 3, \"questionType\": 2, \"questionId\": \"5.3_OneSauce\", \"learnToolsVersion\": \"0.3.4\", \"valueTowardsCompletion\": 0.0, \"failureMessage\": \"\", \"exceptionClass\": \"\", \"trace\": \"\", \"outcomeType\": 4}}, \"*\")"
            ],
            "text/plain": [
              "<IPython.core.display.Javascript object>"
            ]
          },
          "metadata": {}
        },
        {
          "output_type": "display_data",
          "data": {
            "text/markdown": "<span style=\"color:#33cc99\">Solution:</span> \n```python\nreturn (ketchup and not mustard) or (mustard and not ketchup)\n```",
            "text/plain": [
              "Solution: \n",
              "```python\n",
              "return (ketchup and not mustard) or (mustard and not ketchup)\n",
              "```"
            ]
          },
          "metadata": {}
        }
      ]
    },
    {
      "cell_type": "markdown",
      "metadata": {
        "id": "yD_H0xvOXxQP"
      },
      "source": [
        "# 6. <span title=\"A bit spicy\" style=\"color: darkgreen \">🌶️</span>\n",
        "\n",
        "We’ve seen that calling `bool()` on an integer returns `False` if it’s equal to 0 and `True` otherwise. What happens if we call `int()` on a bool? Try it out in the notebook cell below.\n",
        "\n",
        "Can you take advantage of this to write a succinct function that corresponds to the English sentence \"does the customer want exactly one topping?\"?"
      ]
    },
    {
      "cell_type": "code",
      "metadata": {
        "id": "oPyLtwtLXxQQ",
        "colab": {
          "base_uri": "https://localhost:8080/",
          "height": 47
        },
        "outputId": "fde6a1cb-0652-4adc-c9d7-2bc2c4b88f4d"
      },
      "source": [
        "def exactly_one_topping(ketchup, mustard, onion):\n",
        "    \"\"\"Return whether the customer wants exactly one of the three available toppings\n",
        "    on their hot dog.\n",
        "    \"\"\"\n",
        "    pass\n",
        "\n",
        "# Check your answer\n",
        "q6.check()"
      ],
      "execution_count": 21,
      "outputs": [
        {
          "output_type": "display_data",
          "data": {
            "application/javascript": [
              "parent.postMessage({\"jupyterEvent\": \"custom.exercise_interaction\", \"data\": {\"outcomeType\": 4, \"interactionType\": 1, \"questionType\": 2, \"questionId\": \"6_OneTopping\", \"learnToolsVersion\": \"0.3.4\", \"valueTowardsCompletion\": 0.0, \"failureMessage\": \"\", \"exceptionClass\": \"\", \"trace\": \"\"}}, \"*\")"
            ],
            "text/plain": [
              "<IPython.core.display.Javascript object>"
            ]
          },
          "metadata": {}
        },
        {
          "output_type": "display_data",
          "data": {
            "text/markdown": "<span style=\"color:#ccaa33\">Check:</span> When you've updated the starter code, `check()` will tell you whether your code is correct. ",
            "text/plain": [
              "Check: When you've updated the starter code, `check()` will tell you whether your code is correct. "
            ]
          },
          "metadata": {}
        }
      ]
    },
    {
      "cell_type": "code",
      "metadata": {
        "id": "2iPYGE8XXxQS",
        "colab": {
          "base_uri": "https://localhost:8080/",
          "height": 128
        },
        "outputId": "768ac1a9-4a44-4425-bc3b-5d07bdd4ce82"
      },
      "source": [
        "#q6.hint()\n",
        "q6.solution()"
      ],
      "execution_count": 22,
      "outputs": [
        {
          "output_type": "display_data",
          "data": {
            "application/javascript": [
              "parent.postMessage({\"jupyterEvent\": \"custom.exercise_interaction\", \"data\": {\"interactionType\": 3, \"questionType\": 2, \"questionId\": \"6_OneTopping\", \"learnToolsVersion\": \"0.3.4\", \"valueTowardsCompletion\": 0.0, \"failureMessage\": \"\", \"exceptionClass\": \"\", \"trace\": \"\", \"outcomeType\": 4}}, \"*\")"
            ],
            "text/plain": [
              "<IPython.core.display.Javascript object>"
            ]
          },
          "metadata": {}
        },
        {
          "output_type": "display_data",
          "data": {
            "text/markdown": "<span style=\"color:#33cc99\">Solution:</span> This condition would be pretty complicated to express using just `and`, `or` and `not`, but using boolean-to-integer conversion gives us this short solution:\n```python\nreturn (int(ketchup) + int(mustard) + int(onion)) == 1\n```\n\nFun fact: we don't technically need to call `int` on the arguments. Just by doing addition with booleans, Python implicitly does the integer conversion. So we could also write...\n\n```python\nreturn (ketchup + mustard + onion) == 1\n```",
            "text/plain": [
              "Solution: This condition would be pretty complicated to express using just `and`, `or` and `not`, but using boolean-to-integer conversion gives us this short solution:\n",
              "```python\n",
              "return (int(ketchup) + int(mustard) + int(onion)) == 1\n",
              "```\n",
              "\n",
              "Fun fact: we don't technically need to call `int` on the arguments. Just by doing addition with booleans, Python implicitly does the integer conversion. So we could also write...\n",
              "\n",
              "```python\n",
              "return (ketchup + mustard + onion) == 1\n",
              "```"
            ]
          },
          "metadata": {}
        }
      ]
    },
    {
      "cell_type": "markdown",
      "metadata": {
        "id": "cGYLBoOzXxQT"
      },
      "source": [
        "# 7. <span title=\"A bit spicy\" style=\"color: darkgreen \">🌶️</span> (Optional)\n",
        "\n",
        "In this problem we'll be working with a simplified version of [blackjack](https://en.wikipedia.org/wiki/Blackjack) (aka twenty-one). In this version there is one player (who you'll control) and a dealer. Play proceeds as follows:\n",
        "\n",
        "- The player is dealt two face-up cards. The dealer is dealt one face-up card.\n",
        "- The player may ask to be dealt another card ('hit') as many times as they wish. If the sum of their cards exceeds 21, they lose the round immediately.\n",
        "- The dealer then deals additional cards to himself until either:\n",
        "    - the sum of the dealer's cards exceeds 21, in which case the player wins the round\n",
        "    - the sum of the dealer's cards is greater than or equal to 17. If the player's total is greater than the dealer's, the player wins. Otherwise, the dealer wins (even in case of a tie).\n",
        "    \n",
        "When calculating the sum of cards, Jack, Queen, and King count for 10. Aces can count as 1 or 11 (when referring to a player's \"total\" above, we mean the largest total that can be made without exceeding 21. So e.g. A+8 = 19, A+8+8 = 17)\n",
        "\n",
        "For this problem, you'll write a function representing the player's decision-making strategy in this game. We've provided a very unintelligent implementation below:"
      ]
    },
    {
      "cell_type": "code",
      "metadata": {
        "id": "scNYPxBfXxQU"
      },
      "source": [
        "def should_hit(dealer_total, player_total, player_low_aces, player_high_aces):\n",
        "    \"\"\"Return True if the player should hit (request another card) given the current game\n",
        "    state, or False if the player should stay.\n",
        "    When calculating a hand's total value, we count aces as \"high\" (with value 11) if doing so\n",
        "    doesn't bring the total above 21, otherwise we count them as low (with value 1). \n",
        "    For example, if the player's hand is {A, A, A, 7}, we will count it as 11 + 1 + 1 + 7,\n",
        "    and therefore set player_total=20, player_low_aces=2, player_high_aces=1.\n",
        "    \"\"\"\n",
        "    return False"
      ],
      "execution_count": 23,
      "outputs": []
    },
    {
      "cell_type": "markdown",
      "metadata": {
        "id": "-AjC5qrnXxQW"
      },
      "source": [
        "This very conservative agent *always* sticks with the hand of two cards that they're dealt.\n",
        "\n",
        "We'll be simulating games between your player agent and our own dealer agent by calling your function.\n",
        "\n",
        "Try running the function below to see an example of a simulated game:"
      ]
    },
    {
      "cell_type": "code",
      "metadata": {
        "id": "rB8VQ6xEXxQX",
        "colab": {
          "base_uri": "https://localhost:8080/"
        },
        "outputId": "e6905c49-fa13-471d-b5d7-eebe5906d7b4"
      },
      "source": [
        "q7.simulate_one_game()"
      ],
      "execution_count": 24,
      "outputs": [
        {
          "output_type": "stream",
          "name": "stdout",
          "text": [
            "Player starts with J and J (total = 20)\n",
            "Dealer starts with 7\n",
            "\n",
            "__Player's turn__\n",
            "Player stays\n",
            "\n",
            "__Dealer's turn__\n",
            "Dealer hits and receives 9. (total = 16)\n",
            "Dealer hits and receives J. (total = 26)\n",
            "Dealer busts! Player wins.\n"
          ]
        }
      ]
    },
    {
      "cell_type": "markdown",
      "metadata": {
        "id": "9v09mp0jXxQY"
      },
      "source": [
        "The real test of your agent's mettle is their average win rate over many games. Try calling the function below to simulate 50000 games of blackjack (it may take a couple seconds):"
      ]
    },
    {
      "cell_type": "code",
      "metadata": {
        "id": "W_F5MYE4XxQa",
        "colab": {
          "base_uri": "https://localhost:8080/"
        },
        "outputId": "2abb1660-c9a5-4384-8dfd-c0aee8216d97"
      },
      "source": [
        "q7.simulate(n_games=50000)"
      ],
      "execution_count": 25,
      "outputs": [
        {
          "output_type": "stream",
          "name": "stdout",
          "text": [
            "Player won 19037 out of 50000 games (win rate = 38.1%)\n"
          ]
        }
      ]
    },
    {
      "cell_type": "markdown",
      "metadata": {
        "id": "qysO75RzXxQd"
      },
      "source": [
        "Our dumb agent that completely ignores the game state still manages to win shockingly often!\n",
        "\n",
        "Try adding some more smarts to the `should_hit` function and see how it affects the results."
      ]
    },
    {
      "cell_type": "code",
      "metadata": {
        "id": "M1pu5C-EXxQf",
        "colab": {
          "base_uri": "https://localhost:8080/"
        },
        "outputId": "ac513310-eac1-42ae-a5e9-a22a9bc04503"
      },
      "source": [
        "def should_hit(dealer_total, player_total, player_low_aces, player_high_aces):\n",
        "    \"\"\"Return True if the player should hit (request another card) given the current game\n",
        "    state, or False if the player should stay.\n",
        "    When calculating a hand's total value, we count aces as \"high\" (with value 11) if doing so\n",
        "    doesn't bring the total above 21, otherwise we count them as low (with value 1). \n",
        "    For example, if the player's hand is {A, A, A, 7}, we will count it as 11 + 1 + 1 + 7,\n",
        "    and therefore set player_total=20, player_low_aces=2, player_high_aces=1.\n",
        "    \"\"\"\n",
        "    return False\n",
        "\n",
        "q7.simulate(n_games=50000)"
      ],
      "execution_count": 26,
      "outputs": [
        {
          "output_type": "stream",
          "name": "stdout",
          "text": [
            "Player won 19056 out of 50000 games (win rate = 38.1%)\n"
          ]
        }
      ]
    }
  ]
}